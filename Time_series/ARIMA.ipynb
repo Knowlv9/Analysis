{
 "cells": [
  {
   "cell_type": "code",
   "execution_count": null,
   "id": "6743aba9-4615-4484-aa11-5839c1c6d735",
   "metadata": {},
   "outputs": [],
   "source": [
    "import os\n",
    "import numpy as np\n",
    "import pandas as pd\n",
    "import datetime\n",
    "\n",
    "from sktime.forecasting.model_selection import temporal_train_test_split\n",
    "from sktime.forecasting.arima import AutoARIMA #ARIMAモデル\n",
    "\n",
    "from sktime.utils.plotting import plot_series #グラフ化\n",
    "import matplotlib.pyplot as plt"
   ]
  },
  {
   "cell_type": "code",
   "execution_count": null,
   "id": "bdde417d-c10a-4c81-9958-21c61ceb53a8",
   "metadata": {},
   "outputs": [],
   "source": [
    "path = \"\"\n",
    "df = pd.read_csv(path)\n",
    "df = df.drop(\"idx\", axis=1)\n",
    "df = df[187:]"
   ]
  },
  {
   "cell_type": "code",
   "execution_count": null,
   "id": "0dc2bf7f-130c-4c00-80f1-7c2084f6944a",
   "metadata": {},
   "outputs": [],
   "source": [
    "df.head()"
   ]
  },
  {
   "cell_type": "code",
   "execution_count": null,
   "id": "fa3d07a3-8d8f-40da-ab90-f8901a5bf3da",
   "metadata": {},
   "outputs": [],
   "source": [
    "df = df.dropna()"
   ]
  },
  {
   "cell_type": "code",
   "execution_count": null,
   "id": "fd462788-8280-41bb-a15d-9276d39b8824",
   "metadata": {},
   "outputs": [],
   "source": [
    "plt.plot(df)"
   ]
  },
  {
   "cell_type": "code",
   "execution_count": null,
   "id": "2fcb7a74-b0e0-43aa-b030-96eb687ae3fe",
   "metadata": {},
   "outputs": [],
   "source": [
    "y_train, y_test = temporal_train_test_split(df, test_size=7)"
   ]
  },
  {
   "cell_type": "code",
   "execution_count": null,
   "id": "495e8ae2-b289-4c24-9789-7fd80311cf98",
   "metadata": {},
   "outputs": [],
   "source": [
    "y_train"
   ]
  },
  {
   "cell_type": "code",
   "execution_count": null,
   "id": "f26951d2-3c1f-4c90-afad-6551821c619a",
   "metadata": {},
   "outputs": [],
   "source": [
    "plot_series(y_train, y_test, labels=[\"y_train\", \"y_test\"])"
   ]
  },
  {
   "cell_type": "code",
   "execution_count": null,
   "id": "0602e0ef-68f4-4c86-ac9c-0f2baacaf56e",
   "metadata": {},
   "outputs": [],
   "source": [
    "forecaster = AutoARIMA(sp=7, suppress_warnings=True)\n",
    "forecaster.fit(y_train)\n",
    "\n",
    "# 予測期間の添え字\n",
    "# fh = [datetime.datetime(2022, 3, 28) + datetime.timedelta(days=d+1) for d in range(len(y_test))]\n",
    "# fh = pd.to_datetime(fh)\n",
    "# fh\n",
    "fh = np.arange(len(y_test)+5) + 1"
   ]
  },
  {
   "cell_type": "code",
   "execution_count": null,
   "id": "94b1f5f6-322b-4b02-80aa-92e5c115fcba",
   "metadata": {},
   "outputs": [],
   "source": [
    "# 予測実施\n",
    "y_pred = forecaster.predict(fh)\n",
    "\n",
    "# 予測結果のグラフ化\n",
    "plot_series(y_train, y_test, y_pred, labels=[\"y_train\", \"y_test\", \"y_pred\"])"
   ]
  },
  {
   "cell_type": "code",
   "execution_count": null,
   "id": "d1f5c0e6-2bbf-41d1-b7cc-58db1d3570e1",
   "metadata": {},
   "outputs": [],
   "source": [
    "y_pred"
   ]
  },
  {
   "cell_type": "code",
   "execution_count": null,
   "id": "d9473490-3d79-4815-81da-f86db9fed4ab",
   "metadata": {},
   "outputs": [],
   "source": []
  }
 ],
 "metadata": {
  "kernelspec": {
   "display_name": "Python 3 (ipykernel)",
   "language": "python",
   "name": "python3"
  },
  "language_info": {
   "codemirror_mode": {
    "name": "ipython",
    "version": 3
   },
   "file_extension": ".py",
   "mimetype": "text/x-python",
   "name": "python",
   "nbconvert_exporter": "python",
   "pygments_lexer": "ipython3",
   "version": "3.10.4"
  }
 },
 "nbformat": 4,
 "nbformat_minor": 5
}
